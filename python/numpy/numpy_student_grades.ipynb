{
 "cells": [
  {
   "cell_type": "code",
   "execution_count": null,
   "metadata": {},
   "outputs": [],
   "source": [
    "\"\"\"\n",
    "NumPy Mini Project: “Student Grades Matrix” \n",
    "\n",
    "Simulate and analyze grades for a class using only NumPy.\n",
    "\n",
    "Tasks:\n",
    "1. Average grade per student\t\n",
    "2. Average grade per exam\t\n",
    "3. Highest grade overall\t\n",
    "4. Student with highest average\n",
    "5. Add 5 bonus points to exam 2\t\t\n",
    "6. Grade range (max - min) for each student\n",
    "7. Normalize the entire matrix (0–1 scale)\t\n",
    "\"\"\""
   ]
  },
  {
   "cell_type": "code",
   "execution_count": 2,
   "metadata": {},
   "outputs": [],
   "source": [
    "import numpy as np\n",
    "\n",
    "# Rows = Students, Columns = Exams\n",
    "grades = np.array([\n",
    "    [88, 92, 79, 93],\n",
    "    [76, 85, 83, 90],\n",
    "    [90, 91, 94, 89],\n",
    "    [67, 75, 78, 72],\n",
    "    [85, 87, 90, 91]\n",
    "])"
   ]
  },
  {
   "cell_type": "code",
   "execution_count": 5,
   "metadata": {},
   "outputs": [
    {
     "name": "stdout",
     "output_type": "stream",
     "text": [
      "Avg grade per student:  [88.   83.5  91.   73.   88.25]\n"
     ]
    }
   ],
   "source": [
    "#1\n",
    "avg_grade_per_student = np.mean(grades, axis = 1)\n",
    "print(\"Avg grade per student: \",avg_grade_per_student)"
   ]
  },
  {
   "cell_type": "code",
   "execution_count": 6,
   "metadata": {},
   "outputs": [
    {
     "name": "stdout",
     "output_type": "stream",
     "text": [
      "Avg exam grade:  [81.2 86.  84.8 87. ]\n"
     ]
    }
   ],
   "source": [
    "#2\n",
    "avg_grade_per_exam = np.mean(grades, axis = 0)\n",
    "print(\"Avg exam grade: \",avg_grade_per_exam)"
   ]
  },
  {
   "cell_type": "code",
   "execution_count": 7,
   "metadata": {},
   "outputs": [
    {
     "name": "stdout",
     "output_type": "stream",
     "text": [
      "94\n"
     ]
    }
   ],
   "source": [
    "#3\n",
    "highest_grade = np.max(grades)\n",
    "print(highest_grade)"
   ]
  },
  {
   "cell_type": "code",
   "execution_count": 22,
   "metadata": {},
   "outputs": [
    {
     "name": "stdout",
     "output_type": "stream",
     "text": [
      "Student with highest average (index): 2\n"
     ]
    }
   ],
   "source": [
    "#4\n",
    "student_averages = np.mean(grades, axis=1)\n",
    "index_of_highest_avg = np.argmax(student_averages)\n",
    "print(\"Student with highest average (index):\", index_of_highest_avg)"
   ]
  },
  {
   "cell_type": "code",
   "execution_count": 17,
   "metadata": {},
   "outputs": [
    {
     "name": "stdout",
     "output_type": "stream",
     "text": [
      "[[93 97 84 98]\n",
      " [81 90 88 95]\n",
      " [95 96 99 94]\n",
      " [72 80 83 77]\n",
      " [90 92 95 96]]\n"
     ]
    }
   ],
   "source": [
    "#5 \n",
    "add_points_to_exam =  np.array([[5, 5, 5, 5]])\n",
    "broadcasted = grades + add_points_to_exam\n",
    "print(broadcasted)"
   ]
  },
  {
   "cell_type": "code",
   "execution_count": 20,
   "metadata": {},
   "outputs": [
    {
     "name": "stdout",
     "output_type": "stream",
     "text": [
      "Grade range per student: [14 14  5 11  6]\n"
     ]
    }
   ],
   "source": [
    "#6\n",
    "grade_range = np.ptp(grades, axis=1)\n",
    "print(\"Grade range per student:\", grade_range)"
   ]
  },
  {
   "cell_type": "code",
   "execution_count": 21,
   "metadata": {},
   "outputs": [
    {
     "name": "stdout",
     "output_type": "stream",
     "text": [
      "Normalized grades:\n",
      " [[0.77777778 0.92592593 0.44444444 0.96296296]\n",
      " [0.33333333 0.66666667 0.59259259 0.85185185]\n",
      " [0.85185185 0.88888889 1.         0.81481481]\n",
      " [0.         0.2962963  0.40740741 0.18518519]\n",
      " [0.66666667 0.74074074 0.85185185 0.88888889]]\n"
     ]
    }
   ],
   "source": [
    "#7\n",
    "min_val = np.min(grades)\n",
    "max_val = np.max(grades)\n",
    "\n",
    "normalized_grades = (grades - min_val) / (max_val - min_val)\n",
    "print(\"Normalized grades:\\n\", normalized_grades)"
   ]
  }
 ],
 "metadata": {
  "kernelspec": {
   "display_name": "Python 3",
   "language": "python",
   "name": "python3"
  },
  "language_info": {
   "codemirror_mode": {
    "name": "ipython",
    "version": 3
   },
   "file_extension": ".py",
   "mimetype": "text/x-python",
   "name": "python",
   "nbconvert_exporter": "python",
   "pygments_lexer": "ipython3",
   "version": "3.11.5"
  }
 },
 "nbformat": 4,
 "nbformat_minor": 2
}
