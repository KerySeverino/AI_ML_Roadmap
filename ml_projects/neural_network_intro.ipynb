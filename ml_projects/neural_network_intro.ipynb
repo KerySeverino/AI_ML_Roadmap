{
 "cells": [
  {
   "cell_type": "code",
   "execution_count": 64,
   "metadata": {},
   "outputs": [],
   "source": [
    "import numpy as np\n",
    "import tensorflow as tf\n",
    "from tensorflow.keras.models import Sequential\n",
    "from tensorflow.keras.layers import Dense\n",
    "\n",
    "\n",
    "# Much cleaner print than watching verbose print every line.\n",
    "class PrintEvery(tf.keras.callbacks.Callback):\n",
    "    def __init__(self, interval=50):\n",
    "        self.interval = interval\n",
    "\n",
    "    def on_epoch_end(self, epoch, logs=None):\n",
    "        if (epoch + 1) % self.interval == 0:\n",
    "            print(f\"Epoch {epoch+1} → Loss: {logs['loss']:.4f} - Accuracy: {logs['accuracy']:.4f}\")\n"
   ]
  },
  {
   "cell_type": "code",
   "execution_count": 65,
   "metadata": {},
   "outputs": [
    {
     "name": "stdout",
     "output_type": "stream",
     "text": [
      "Epoch 50 → Loss: 0.6526 - Accuracy: 0.7500\n",
      "Epoch 100 → Loss: 0.6140 - Accuracy: 0.7500\n",
      "Epoch 150 → Loss: 0.5746 - Accuracy: 0.7500\n",
      "Epoch 200 → Loss: 0.5357 - Accuracy: 0.7500\n",
      "Epoch 250 → Loss: 0.4985 - Accuracy: 0.7500\n",
      "Epoch 300 → Loss: 0.4641 - Accuracy: 0.7500\n",
      "Epoch 350 → Loss: 0.4326 - Accuracy: 0.7500\n",
      "Epoch 400 → Loss: 0.4039 - Accuracy: 0.7500\n",
      "Epoch 450 → Loss: 0.3775 - Accuracy: 0.7500\n",
      "Epoch 500 → Loss: 0.3531 - Accuracy: 1.0000\n",
      "\u001b[1m1/1\u001b[0m \u001b[32m━━━━━━━━━━━━━━━━━━━━\u001b[0m\u001b[37m\u001b[0m \u001b[1m0s\u001b[0m 22ms/step\n"
     ]
    }
   ],
   "source": [
    "X = np.array([[0, 0], [0, 1], [1, 0], [1, 1]])\n",
    "y = np.array([[0], [0], [0], [1]])\n",
    "\n",
    "\n",
    "model = Sequential([\n",
    "    #Input Layer\n",
    "    tf.keras.Input(shape=(2,)),\n",
    "    #Hidden Layer\n",
    "    Dense(4, activation='tanh'), \n",
    "    #Output Layer\n",
    "    Dense(1, activation='sigmoid') \n",
    "])\n",
    "\n",
    "# Compile & train using Adam\n",
    "model.compile(optimizer='adam', loss='binary_crossentropy', metrics=['accuracy'])\n",
    "model.fit(X, y, epochs=500, verbose=0, callbacks=[PrintEvery(50)])\n",
    "\n",
    "# Predict\n",
    "preds = model.predict(X)\n"
   ]
  },
  {
   "cell_type": "code",
   "execution_count": 66,
   "metadata": {},
   "outputs": [
    {
     "name": "stdout",
     "output_type": "stream",
     "text": [
      "Actual Values:\n",
      " [[0]\n",
      " [0]\n",
      " [0]\n",
      " [1]]\n",
      "Model Predictions:\n",
      " [[0]\n",
      " [0]\n",
      " [0]\n",
      " [1]]\n",
      "Accuracy: 100.0 %\n"
     ]
    }
   ],
   "source": [
    "print(\"Actual Values:\\n\", y)\n",
    "print(\"Model Predictions:\\n\", preds.round().astype(int))\n",
    "print(\"Accuracy:\", np.mean(preds.round() == y) * 100, \"%\")"
   ]
  },
  {
   "cell_type": "code",
   "execution_count": 67,
   "metadata": {},
   "outputs": [
    {
     "name": "stdout",
     "output_type": "stream",
     "text": [
      "Reflection:\n",
      "\n",
      "I could’ve used a single neuron with no hidden layers, and it technically works for the AND gate.\n",
      "But it required more epochs and didn’t always hit 100% accuracy consistently.\n",
      "So I decided to overkill it: added a hidden layer with 4 neurons using `tanh` activation.\n",
      "Now it reaches 100% accuracy reliably around 500 epochs, every time.\n"
     ]
    }
   ],
   "source": [
    "\n",
    "print(\"Reflection:\\n\")\n",
    "print(\"I could’ve used a single neuron with no hidden layers, and it technically works for the AND gate.\\nBut it required more epochs and didn’t always hit 100% accuracy consistently.\\nSo I decided to overkill it: added a hidden layer with 4 neurons using `tanh` activation.\\nNow it reaches 100% accuracy reliably around 500 epochs, every time.\")"
   ]
  }
 ],
 "metadata": {
  "kernelspec": {
   "display_name": "Python 3",
   "language": "python",
   "name": "python3"
  },
  "language_info": {
   "codemirror_mode": {
    "name": "ipython",
    "version": 3
   },
   "file_extension": ".py",
   "mimetype": "text/x-python",
   "name": "python",
   "nbconvert_exporter": "python",
   "pygments_lexer": "ipython3",
   "version": "3.11.5"
  }
 },
 "nbformat": 4,
 "nbformat_minor": 2
}
