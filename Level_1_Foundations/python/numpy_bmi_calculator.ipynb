{
 "cells": [
  {
   "cell_type": "code",
   "execution_count": 11,
   "metadata": {},
   "outputs": [
    {
     "name": "stdout",
     "output_type": "stream",
     "text": [
      "Heights (m):  [1.708511   1.86016225 1.50005719 1.65116629 1.57337795]\n",
      "Weight (kg):  [56.46370163 63.0382148  74.18925089 77.7737232  87.71717138]\n"
     ]
    }
   ],
   "source": [
    "import numpy as np\n",
    "\n",
    "# Lock random values\n",
    "np.random.seed(1)\n",
    "\n",
    "# Simulate height and weight\n",
    "height = np.random.uniform(1.5, 2.0, size=5)\n",
    "weight = np.random.uniform(50, 120, size=5)\n",
    "\n",
    "print(\"Heights (m): \", height)\n",
    "print(\"Weight (kg): \", weight)"
   ]
  },
  {
   "cell_type": "code",
   "execution_count": 14,
   "metadata": {},
   "outputs": [
    {
     "name": "stdout",
     "output_type": "stream",
     "text": [
      "[19.34344337 18.21806529 32.97048635 28.52668227 35.43386303]\n"
     ]
    }
   ],
   "source": [
    "BMI_FORMULA = weight / height ** 2\n",
    "print(BMI_FORMULA)"
   ]
  },
  {
   "cell_type": "code",
   "execution_count": 18,
   "metadata": {},
   "outputs": [
    {
     "name": "stdout",
     "output_type": "stream",
     "text": [
      "['Normal' 'Underweight' 'Obese' 'Overweight' 'Obese']\n"
     ]
    }
   ],
   "source": [
    "# Categories from the CDC Adult BMI calculator:\n",
    "\n",
    "# Underweight: BMI_FORMULA < 18.5\n",
    "# Normal: 18.5 ≤ BMI_FORMULA < 25\n",
    "# Overweight: 25 ≤ BMI_FORMULA < 30\n",
    "# Obese: BMI_FORMULA ≥ 30\n",
    "\n",
    "categories = np.empty(5, dtype=\"<U12\")\n",
    "categories[BMI_FORMULA < 18.5] = \"Underweight\"\n",
    "categories[(BMI_FORMULA >= 18.5) & (BMI_FORMULA < 25)] = \"Normal\"\n",
    "categories[(BMI_FORMULA >= 25) & (BMI_FORMULA < 30)] = \"Overweight\"\n",
    "categories[BMI_FORMULA >= 30] = \"Obese\"\n",
    "\n",
    "print(categories)"
   ]
  },
  {
   "cell_type": "code",
   "execution_count": 38,
   "metadata": {},
   "outputs": [
    {
     "name": "stdout",
     "output_type": "stream",
     "text": [
      "Index of top three:  [4 2 3]\n",
      "1. 35.43386303100056\n",
      "2. 32.97048635340222\n",
      "3. 28.526682267116758\n"
     ]
    }
   ],
   "source": [
    "three_highest_bmi_index = np.argsort(BMI_FORMULA)[::-1][:3]\n",
    "print(f\"Index of top three: \",three_highest_bmi_index)\n",
    "\n",
    "for i, bmi in enumerate(three_highest_bmi_index):\n",
    "    print(f\"{i + 1}.\", BMI_FORMULA[bmi])"
   ]
  },
  {
   "cell_type": "code",
   "execution_count": 35,
   "metadata": {},
   "outputs": [
    {
     "name": "stdout",
     "output_type": "stream",
     "text": [
      "How many people with the same category?\n",
      "Normal: 1\n",
      "Obese: 2\n",
      "Overweight: 1\n",
      "Underweight: 1\n"
     ]
    }
   ],
   "source": [
    "labels, counts = np.unique(categories, return_counts=True)\n",
    "\n",
    "print(\"How many people with the same category?\")\n",
    "for label, count in zip(labels, counts):\n",
    "    print(f\"{label}: {count}\")\n"
   ]
  },
  {
   "cell_type": "code",
   "execution_count": 42,
   "metadata": {},
   "outputs": [
    {
     "name": "stdout",
     "output_type": "stream",
     "text": [
      "Normalized Height: [0.57886944 1.         0.         0.41962504 0.20360935]\n",
      "Normalized Weight: [0.         0.21036106 0.5671546  0.68184498 1.        ]\n"
     ]
    }
   ],
   "source": [
    "height_normalized = (height - np.min(height)) / (np.max(height) - np.min(height))\n",
    "weight_normalized = (weight - np.min(weight)) / (np.max(weight) - np.min(weight))\n",
    "\n",
    "print(f\"Normalized Height: {height_normalized}\")\n",
    "print(f\"Normalized Weight: {weight_normalized}\")"
   ]
  }
 ],
 "metadata": {
  "kernelspec": {
   "display_name": "Python 3",
   "language": "python",
   "name": "python3"
  },
  "language_info": {
   "codemirror_mode": {
    "name": "ipython",
    "version": 3
   },
   "file_extension": ".py",
   "mimetype": "text/x-python",
   "name": "python",
   "nbconvert_exporter": "python",
   "pygments_lexer": "ipython3",
   "version": "3.11.5"
  }
 },
 "nbformat": 4,
 "nbformat_minor": 2
}
