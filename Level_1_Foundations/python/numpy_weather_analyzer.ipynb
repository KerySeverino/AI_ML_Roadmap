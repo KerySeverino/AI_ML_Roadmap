{
 "cells": [
  {
   "cell_type": "code",
   "execution_count": 17,
   "metadata": {},
   "outputs": [
    {
     "name": "stdout",
     "output_type": "stream",
     "text": [
      "Weather data (Temp °C, Humidity %):\n",
      " [[21 68]\n",
      " [29 82]\n",
      " [22 60]\n",
      " [21 58]\n",
      " [25 50]\n",
      " [35 75]\n",
      " [22 63]]\n"
     ]
    }
   ],
   "source": [
    "import numpy as np\n",
    "\n",
    "days = [\"Mon\", \"Tue\", \"Wed\", \"Thu\", \"Fri\", \"Sat\", \"Sun\"]\n",
    "\n",
    "# Set a seed\n",
    "np.random.seed(42)\n",
    "weather_data = np.random.randint(\n",
    "    low=[[15, 40]],     # Min temp, min humidity\n",
    "    high=[[36, 91]],    # Max temp, max humidity\n",
    "    size=(7, 2)         # 7 days × 2 features\n",
    ")\n",
    "\n",
    "print(\"Weather data (Temp °C, Humidity %):\\n\", weather_data)"
   ]
  },
  {
   "cell_type": "code",
   "execution_count": 18,
   "metadata": {},
   "outputs": [
    {
     "name": "stdout",
     "output_type": "stream",
     "text": [
      "Average Temp (°C): 25.0\n",
      "Average Humidity (%): 65.14285714285714\n"
     ]
    }
   ],
   "source": [
    "avg_temp = np.mean(weather_data[:, 0])\n",
    "avg_humidity = np.mean(weather_data[:, 1])\n",
    "\n",
    "print(\"Average Temp (°C):\", avg_temp)\n",
    "print(\"Average Humidity (%):\", avg_humidity)"
   ]
  },
  {
   "cell_type": "code",
   "execution_count": 19,
   "metadata": {},
   "outputs": [
    {
     "name": "stdout",
     "output_type": "stream",
     "text": [
      "Hottest day: Sat with 35 °C\n"
     ]
    }
   ],
   "source": [
    "max_temp_index = np.argmax(weather_data[:, 0])\n",
    "print(\"Hottest day:\", days[max_temp_index], \"with\", weather_data[max_temp_index, 0], \"°C\")"
   ]
  },
  {
   "cell_type": "code",
   "execution_count": 20,
   "metadata": {},
   "outputs": [
    {
     "name": "stdout",
     "output_type": "stream",
     "text": [
      "Lowest humidity day: Fri with 50 %\n"
     ]
    }
   ],
   "source": [
    "min_humidity_index = np.argmin(weather_data[:, 1])\n",
    "print(\"Lowest humidity day:\", days[min_humidity_index], \"with\", weather_data[min_humidity_index, 1], \"%\")"
   ]
  },
  {
   "cell_type": "code",
   "execution_count": 21,
   "metadata": {},
   "outputs": [
    {
     "name": "stdout",
     "output_type": "stream",
     "text": [
      "Temperatures in Fahrenheit: [69.8 84.2 71.6 69.8 77.  95.  71.6]\n"
     ]
    }
   ],
   "source": [
    "temps_C = weather_data[:, 0]\n",
    "temps_F = temps_C * 9/5 + 32\n",
    "\n",
    "print(\"Temperatures in Fahrenheit:\", temps_F)"
   ]
  },
  {
   "cell_type": "code",
   "execution_count": 22,
   "metadata": {},
   "outputs": [
    {
     "name": "stdout",
     "output_type": "stream",
     "text": [
      "Days over 30°C:\n",
      "Sat: 35°C\n"
     ]
    }
   ],
   "source": [
    "hot_days = np.where(weather_data[:, 0] > 30)[0]\n",
    "print(\"Days over 30°C:\")\n",
    "for i in hot_days:\n",
    "    print(f\"{days[i]}: {weather_data[i, 0]}°C\")"
   ]
  },
  {
   "cell_type": "code",
   "execution_count": 23,
   "metadata": {},
   "outputs": [
    {
     "name": "stdout",
     "output_type": "stream",
     "text": [
      "Normalized humidity: [0.5625  1.      0.3125  0.25    0.      0.78125 0.40625]\n"
     ]
    }
   ],
   "source": [
    "humidity = weather_data[:, 1]\n",
    "normalized_humidity = (humidity - np.min(humidity)) / (np.max(humidity) - np.min(humidity))\n",
    "print(\"Normalized humidity:\", normalized_humidity)"
   ]
  }
 ],
 "metadata": {
  "kernelspec": {
   "display_name": "Python 3",
   "language": "python",
   "name": "python3"
  },
  "language_info": {
   "name": "python",
   "version": "3.11.5"
  }
 },
 "nbformat": 4,
 "nbformat_minor": 2
}
