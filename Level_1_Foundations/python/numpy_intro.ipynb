{
 "cells": [
  {
   "cell_type": "code",
   "execution_count": 2,
   "metadata": {},
   "outputs": [
    {
     "name": "stdout",
     "output_type": "stream",
     "text": [
      "\n",
      "1D array:  [1 2 3]\n",
      "Array dimension:  1  | Shape: (3,) (Rows)\n",
      "\n",
      "2D array:\n",
      " [[1 2 3]\n",
      " [4 5 6]]\n",
      "Array dimension:  2  | Shape: (2, 3) (Rows, Cols)\n",
      "\n",
      "Sum of a + b arrays:\n",
      " [[2 4 6]\n",
      " [5 7 9]]\n",
      "Array dimension:  2  | Shape: (2, 3) (Rows, Cols)\n",
      "\n",
      "3D array:\n",
      " [[[ 2  4  6]\n",
      "  [ 8 10 12]\n",
      "  [14 16 18]]]\n",
      "Array dimension:  3  | Shape: (1, 3, 3) (Depth, Rows, Cols)\n"
     ]
    }
   ],
   "source": [
    "import numpy as np\n",
    "\n",
    "a = np.array([1,2,3])\n",
    "b = np.array([\n",
    "            [1,2,3], \n",
    "            [4,5,6]\n",
    "            ])\n",
    "print(\"\\n1D array: \", a)\n",
    "print(\"Array dimension: \",a.ndim, \" | Shape:\", a.shape, \"(Rows)\")\n",
    "print(\"\\n2D array:\\n\", b)\n",
    "print(\"Array dimension: \",b.ndim, \" | Shape:\", b.shape, \"(Rows, Cols)\")\n",
    "\n",
    "c = a + b\n",
    "print(\"\\nSum of a + b arrays:\\n\", c)\n",
    "print(\"Array dimension: \",c.ndim, \" | Shape:\", c.shape, \"(Rows, Cols)\")\n",
    "\n",
    "d = np.array([\n",
    "    [[2,4,6], \n",
    "     [8,10,12], \n",
    "     [14,16,18]]\n",
    "    ])\n",
    "print(\"\\n3D array:\\n\", d)\n",
    "print(\"Array dimension: \",d.ndim, \" | Shape:\", d.shape, \"(Depth, Rows, Cols)\")"
   ]
  },
  {
   "cell_type": "code",
   "execution_count": 3,
   "metadata": {},
   "outputs": [
    {
     "name": "stdout",
     "output_type": "stream",
     "text": [
      "[[ 0  1  2  3  4]\n",
      " [ 5  6  7  8  9]\n",
      " [10 11 12 13 14]\n",
      " [15 16 17 18 19]\n",
      " [20 21 22 23 24]]\n"
     ]
    }
   ],
   "source": [
    "matrix = np.arange(25).reshape(5,5)\n",
    "print(matrix)"
   ]
  },
  {
   "cell_type": "code",
   "execution_count": 11,
   "metadata": {},
   "outputs": [
    {
     "name": "stdout",
     "output_type": "stream",
     "text": [
      "[[ 0  1  2  3  4]\n",
      " [ 5  6  7  8  9]\n",
      " [10 11 12 13 14]\n",
      " [15 16 17 18 19]\n",
      " [20 21 22 23 24]]\n"
     ]
    }
   ],
   "source": [
    "matrix2 = np.arange(25).reshape(5,5)\n",
    "print(matrix2)"
   ]
  },
  {
   "cell_type": "code",
   "execution_count": 9,
   "metadata": {},
   "outputs": [
    {
     "name": "stdout",
     "output_type": "stream",
     "text": [
      "12.0\n"
     ]
    }
   ],
   "source": [
    "mean_all = np.mean(matrix)\n",
    "print(mean_all)"
   ]
  },
  {
   "cell_type": "code",
   "execution_count": 4,
   "metadata": {},
   "outputs": [
    {
     "name": "stdout",
     "output_type": "stream",
     "text": [
      "Row averages:  [ 2.  7. 12. 17. 22.]\n"
     ]
    }
   ],
   "source": [
    "row_averages = np.mean(matrix, axis=1)\n",
    "print(\"Row averages: \", row_averages)"
   ]
  },
  {
   "cell_type": "code",
   "execution_count": 5,
   "metadata": {},
   "outputs": [
    {
     "name": "stdout",
     "output_type": "stream",
     "text": [
      "Column averages:  [10. 11. 12. 13. 14.]\n"
     ]
    }
   ],
   "source": [
    "column_averages = np.mean(matrix, axis=0)\n",
    "print(\"Column averages: \", column_averages)"
   ]
  },
  {
   "cell_type": "code",
   "execution_count": 6,
   "metadata": {},
   "outputs": [
    {
     "name": "stdout",
     "output_type": "stream",
     "text": [
      "300\n"
     ]
    }
   ],
   "source": [
    "sum_all = np.sum(matrix)\n",
    "print(sum_all)"
   ]
  },
  {
   "cell_type": "code",
   "execution_count": 7,
   "metadata": {},
   "outputs": [
    {
     "name": "stdout",
     "output_type": "stream",
     "text": [
      "[ 10  35  60  85 110]\n"
     ]
    }
   ],
   "source": [
    "sum_rows = np.sum(matrix, axis=1)\n",
    "print(sum_rows)"
   ]
  },
  {
   "cell_type": "code",
   "execution_count": 8,
   "metadata": {},
   "outputs": [
    {
     "name": "stdout",
     "output_type": "stream",
     "text": [
      "[50 55 60 65 70]\n"
     ]
    }
   ],
   "source": [
    "sum_colums = np.sum(matrix, axis=0)\n",
    "print(sum_colums)"
   ]
  },
  {
   "cell_type": "code",
   "execution_count": 10,
   "metadata": {},
   "outputs": [
    {
     "name": "stdout",
     "output_type": "stream",
     "text": [
      "[20 21 22 23 24]\n"
     ]
    }
   ],
   "source": [
    "max_columns = np.max(matrix, axis=0)\n",
    "print(max_columns)"
   ]
  },
  {
   "cell_type": "code",
   "execution_count": 16,
   "metadata": {},
   "outputs": [
    {
     "name": "stdout",
     "output_type": "stream",
     "text": [
      "Index of max:  24\n",
      "Max value is at:  (4, 4)\n"
     ]
    }
   ],
   "source": [
    "index_of_max = np.argmax(matrix)\n",
    "print(\"Index of max: \", index_of_max)\n",
    "\n",
    "coords = np.unravel_index(index_of_max, matrix.shape)\n",
    "print(\"Max value is at: \", coords)"
   ]
  },
  {
   "cell_type": "code",
   "execution_count": 11,
   "metadata": {},
   "outputs": [
    {
     "name": "stdout",
     "output_type": "stream",
     "text": [
      "52.0\n"
     ]
    }
   ],
   "source": [
    "var_all = np.var(matrix)\n",
    "print(var_all)"
   ]
  },
  {
   "cell_type": "code",
   "execution_count": 18,
   "metadata": {},
   "outputs": [
    {
     "name": "stdout",
     "output_type": "stream",
     "text": [
      "13\n"
     ]
    }
   ],
   "source": [
    "value = matrix[2,3]\n",
    "print(value)"
   ]
  },
  {
   "cell_type": "code",
   "execution_count": 19,
   "metadata": {},
   "outputs": [
    {
     "name": "stdout",
     "output_type": "stream",
     "text": [
      "[0 1 2 3 4]\n"
     ]
    }
   ],
   "source": [
    "first_row = matrix[0]\n",
    "print(first_row)"
   ]
  },
  {
   "cell_type": "code",
   "execution_count": 20,
   "metadata": {},
   "outputs": [
    {
     "name": "stdout",
     "output_type": "stream",
     "text": [
      "[ 4  9 14 19 24]\n"
     ]
    }
   ],
   "source": [
    "last_column = matrix[:, -1]\n",
    "print(last_column)"
   ]
  },
  {
   "cell_type": "code",
   "execution_count": 21,
   "metadata": {},
   "outputs": [
    {
     "name": "stdout",
     "output_type": "stream",
     "text": [
      "[[ 6  7  8]\n",
      " [11 12 13]\n",
      " [16 17 18]]\n"
     ]
    }
   ],
   "source": [
    "center = matrix[1:4, 1:4]\n",
    "print(center)"
   ]
  },
  {
   "cell_type": "code",
   "execution_count": 23,
   "metadata": {},
   "outputs": [
    {
     "name": "stdout",
     "output_type": "stream",
     "text": [
      "[[20 21 22 23 24]\n",
      " [15 16 17 18 19]\n",
      " [10 11 12 13 14]\n",
      " [ 5  6  7  8  9]\n",
      " [ 0  1  2  3  4]]\n"
     ]
    }
   ],
   "source": [
    "reversed_rows = matrix[::-1]\n",
    "print(reversed_rows)"
   ]
  },
  {
   "cell_type": "code",
   "execution_count": 24,
   "metadata": {},
   "outputs": [
    {
     "name": "stdout",
     "output_type": "stream",
     "text": [
      "[[99 99 99 99 99]\n",
      " [ 5  6  7  8  9]\n",
      " [10 11 12 13 14]\n",
      " [15 16 17 18 19]\n",
      " [20 21 22 23 24]]\n"
     ]
    }
   ],
   "source": [
    "matrix[0] = 99\n",
    "print(matrix)"
   ]
  },
  {
   "cell_type": "code",
   "execution_count": 25,
   "metadata": {},
   "outputs": [
    {
     "name": "stdout",
     "output_type": "stream",
     "text": [
      "[99 99 99 99 99  5  6  7  8  9 10 11 12 13 14 15 16 17 18 19 20 21 22 23\n",
      " 24]\n"
     ]
    }
   ],
   "source": [
    "flat = matrix.flatten()\n",
    "print(flat)"
   ]
  },
  {
   "cell_type": "code",
   "execution_count": 26,
   "metadata": {},
   "outputs": [
    {
     "name": "stdout",
     "output_type": "stream",
     "text": [
      "[[99]\n",
      " [99]\n",
      " [99]\n",
      " [99]\n",
      " [99]\n",
      " [ 5]\n",
      " [ 6]\n",
      " [ 7]\n",
      " [ 8]\n",
      " [ 9]\n",
      " [10]\n",
      " [11]\n",
      " [12]\n",
      " [13]\n",
      " [14]\n",
      " [15]\n",
      " [16]\n",
      " [17]\n",
      " [18]\n",
      " [19]\n",
      " [20]\n",
      " [21]\n",
      " [22]\n",
      " [23]\n",
      " [24]]\n"
     ]
    }
   ],
   "source": [
    "colum_vec = flat.reshape(25, 1)\n",
    "print(colum_vec)"
   ]
  },
  {
   "cell_type": "code",
   "execution_count": 27,
   "metadata": {},
   "outputs": [
    {
     "name": "stdout",
     "output_type": "stream",
     "text": [
      "[[104 104 104 104 104]\n",
      " [ 10  11  12  13  14]\n",
      " [ 15  16  17  18  19]\n",
      " [ 20  21  22  23  24]\n",
      " [ 25  26  27  28  29]]\n"
     ]
    }
   ],
   "source": [
    "fives_row = np.array([5, 5, 5, 5, 5])\n",
    "broadcasted = matrix + fives_row\n",
    "print(broadcasted)"
   ]
  },
  {
   "cell_type": "code",
   "execution_count": 29,
   "metadata": {},
   "outputs": [
    {
     "name": "stdout",
     "output_type": "stream",
     "text": [
      "[[99 99 99 99 99]\n",
      " [ 4  5  6  7  8]\n",
      " [ 8  9 10 11 12]\n",
      " [12 13 14 15 16]\n",
      " [16 17 18 19 20]]\n"
     ]
    }
   ],
   "source": [
    "col = np.array([[0], [1], [2], [3], [4]])\n",
    "result = matrix - col\n",
    "print(result)"
   ]
  },
  {
   "cell_type": "code",
   "execution_count": 30,
   "metadata": {},
   "outputs": [
    {
     "name": "stdout",
     "output_type": "stream",
     "text": [
      "[[99 99 99 99 99]\n",
      " [ 5  6  7  8  9]\n",
      " [10 11 12 13 14]\n",
      " [15 16 17 18 19]\n",
      " [20 21 22 23 24]\n",
      " [99 99 99 99 99]\n",
      " [ 5  6  7  8  9]\n",
      " [10 11 12 13 14]\n",
      " [15 16 17 18 19]\n",
      " [20 21 22 23 24]]\n"
     ]
    }
   ],
   "source": [
    "stacked = np.vstack([matrix, matrix])\n",
    "print(stacked)"
   ]
  },
  {
   "cell_type": "code",
   "execution_count": 31,
   "metadata": {},
   "outputs": [
    {
     "name": "stdout",
     "output_type": "stream",
     "text": [
      "[[99 99 99 99 99 99 99 99 99 99]\n",
      " [ 5  6  7  8  9  5  6  7  8  9]\n",
      " [10 11 12 13 14 10 11 12 13 14]\n",
      " [15 16 17 18 19 15 16 17 18 19]\n",
      " [20 21 22 23 24 20 21 22 23 24]]\n"
     ]
    }
   ],
   "source": [
    "side_by_side = np.hstack([matrix, matrix])\n",
    "print(side_by_side)"
   ]
  }
 ],
 "metadata": {
  "kernelspec": {
   "display_name": "Python 3",
   "language": "python",
   "name": "python3"
  },
  "language_info": {
   "codemirror_mode": {
    "name": "ipython",
    "version": 3
   },
   "file_extension": ".py",
   "mimetype": "text/x-python",
   "name": "python",
   "nbconvert_exporter": "python",
   "pygments_lexer": "ipython3",
   "version": "3.11.5"
  }
 },
 "nbformat": 4,
 "nbformat_minor": 2
}
